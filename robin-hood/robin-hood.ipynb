{
 "cells": [
  {
   "cell_type": "markdown",
   "metadata": {},
   "source": [
    "# Robin Hood\n",
    "## Intro\n",
    "We are in a competition to win the archery contest in Sherwood. With our bow and arrows we shoot on a target and try to hit as close as possible to the center.\n",
    "\n",
    "The center of the target is represented by the values (0, 0) on the coordinate axes.\n",
    "\n",
    "![](images/arrows.jpg)\n",
    "\n",
    "## Goals:\n",
    "* data structures: lists, sets, tuples\n",
    "* logical operators: if-elif-else\n",
    "* loop: while/for\n",
    "* minimum (optional sorting)\n",
    "\n",
    "## Description:\n",
    "In the 2-dimensional space, a point can be defined by a pair of values that correspond to the horizontal coordinate (x) and the vertical coordinate (y). The space can be divided into 4 zones (quadrants): Q1, Q2, Q3, Q4. Whose single point of union is the point (0, 0).\n",
    "\n",
    "If a point is in Q1 both its x coordinate and the y are positive. I leave a link to wikipedia to familiarize yourself with these quadrants.\n",
    "\n",
    "https://en.wikipedia.org/wiki/Cartesian_coordinate_system\n",
    "\n",
    "https://en.wikipedia.org/wiki/Euclidean_distance\n",
    "\n",
    "## Shots\n",
    "```\n",
    "points = [(4, 5), (-0, 2), (4, 7), (1, -3), (3, -2), (4, 5),\n",
    "          (3, 2), (5, 7), (-5, 7), (2, 2), (-4, 5), (0, -2),\n",
    "          (-4, 7), (-1, 3), (-3, 2), (-4, -5), (-3, 2),\n",
    "          (5, 7), (5, 7), (2, 2), (9, 9), (-8, -9)]\n",
    "```\n",
    "\n",
    "## Tasks\n",
    "1. Robin Hood is famous for hitting an arrow with another arrow. Did you get it?\n",
    "2. Calculate how many arrows have fallen in each quadrant.\n",
    "3. Find the point closest to the center. Calculate its distance to the center. \n",
    "4. If the target has a radius of 9, calculate the number of arrows that must be picked up in the forest."
   ]
  },
  {
   "cell_type": "code",
   "execution_count": 1,
   "metadata": {},
   "outputs": [],
   "source": [
    "# Variables\n",
    "\n",
    "points = [(4, 5), (-0, 2), (4, 7), (1, -3), (3, -2), (4, 5),\n",
    "          (3, 2), (5, 7), (-5, 7), (2, 2), (-4, 5), (0, -2),\n",
    "          (-4, 7), (-1, 3), (-3, 2), (-4, -5), (-3, 2),\n",
    "          (5, 7), (5, 7), (2, 2), (9, 9), (-8, -9)]"
   ]
  },
  {
   "cell_type": "code",
   "execution_count": 2,
   "metadata": {},
   "outputs": [
    {
     "name": "stdout",
     "output_type": "stream",
     "text": [
      "There are multiple arrows in the points {(-3, 2), (4, 5), (5, 7), (2, 2)}\n"
     ]
    }
   ],
   "source": [
    "# 1. Robin Hood is famous for hitting an arrow with another arrow. Did you get it?\n",
    "first_seen = []\n",
    "repeated = []\n",
    "\n",
    "for i in points:\n",
    "    if i not in first_seen:\n",
    "        first_seen.append(i)\n",
    "    else:\n",
    "        repeated.append(i)\n",
    "\n",
    "points_multiple_arrows = set(repeated)\n",
    "print(\"There are multiple arrows in the points\", points_multiple_arrows)\n"
   ]
  },
  {
   "cell_type": "markdown",
   "metadata": {},
   "source": [
    "**Expected output**:\n",
    "```\n",
    "True\n",
    "```"
   ]
  },
  {
   "cell_type": "code",
   "execution_count": 3,
   "metadata": {},
   "outputs": [
    {
     "name": "stdout",
     "output_type": "stream",
     "text": [
      "The number of arrows in the first quadrant equals 10\n",
      "The number of arrows in the second quadrant equals 6\n",
      "The number of arrows in the third quadrant equals 2\n",
      "The number of arrows in the fourth quadrant equals 2\n"
     ]
    }
   ],
   "source": [
    "# 2. Calculate how many arrows have fallen in each quadrant.\n",
    "first_quadrant = 0\n",
    "second_quadrant = 0\n",
    "third_quadrant = 0\n",
    "fourth_quadrant = 0\n",
    "\n",
    "for x,y in points:\n",
    "    if x > 0 and y > 0:\n",
    "        first_quadrant += 1\n",
    "    elif x < 0 and y > 0:\n",
    "        second_quadrant += 1\n",
    "    elif x < 0 and y < 0:\n",
    "        third_quadrant += 1\n",
    "    elif x > 0 and y < 0:\n",
    "        fourth_quadrant += 1\n",
    "        \n",
    "print(\"The number of arrows in the first quadrant equals\", first_quadrant)\n",
    "print(\"The number of arrows in the second quadrant equals\", second_quadrant)\n",
    "print(\"The number of arrows in the third quadrant equals\", third_quadrant)\n",
    "print(\"The number of arrows in the fourth quadrant equals\", fourth_quadrant)\n"
   ]
  },
  {
   "cell_type": "markdown",
   "metadata": {},
   "source": [
    "**Expected output**:\n",
    "```\n",
    "(10, 6, 2, 2)\n",
    "```"
   ]
  },
  {
   "cell_type": "code",
   "execution_count": 4,
   "metadata": {},
   "outputs": [
    {
     "name": "stdout",
     "output_type": "stream",
     "text": [
      "The arrow closest to the center is at point (0, 2) with a distance to the center of 2.0\n",
      "The arrow closest to the center is at point (0, -2) with a distance to the center of 2.0\n"
     ]
    }
   ],
   "source": [
    "# 3. Find the point closest to the center. Calculate its distance to the center\n",
    "# Defining a function that calculates the distance to the center can help.\n",
    "distances_to_center = []\n",
    "shortest_distance = 0\n",
    "closest_arrow_index = []\n",
    "\n",
    "for x,y in points:\n",
    "    distance = (x**2 + y**2) **0.5\n",
    "    distances_to_center.append(distance)\n",
    "\n",
    "shortest_distance = min(distances_to_center)\n",
    "\n",
    "for j in range(len(distances_to_center)):\n",
    "    if distances_to_center[j] == shortest_distance:\n",
    "        closest_arrow_index.append(j)\n",
    "        \n",
    "for k in closest_arrow_index:\n",
    "    print(\"The arrow closest to the center is at point\", points[k], \"with a distance to the center of\", shortest_distance)"
   ]
  },
  {
   "cell_type": "markdown",
   "metadata": {},
   "source": [
    "**Expected output**:\n",
    "```\n",
    "(0, 2)\n",
    "2.0\n",
    "```"
   ]
  },
  {
   "cell_type": "code",
   "execution_count": 5,
   "metadata": {},
   "outputs": [
    {
     "name": "stdout",
     "output_type": "stream",
     "text": [
      "The number of arrows outside of the target is 2\n"
     ]
    }
   ],
   "source": [
    "# 4. If the target has a radius of 9, calculate the number of arrows that \n",
    "# must be picked up in the forest.\n",
    "arrows_in_target = 0\n",
    "arrows_not_in_target = 0\n",
    "\n",
    "for l in distances_to_center:\n",
    "    if l <= 9:\n",
    "        arrows_in_target += 1\n",
    "    else:\n",
    "        arrows_not_in_target += 1\n",
    "\n",
    "print(\"The number of arrows outside of the target is\", arrows_not_in_target)\n"
   ]
  },
  {
   "cell_type": "markdown",
   "metadata": {},
   "source": [
    "**Expected output**:\n",
    "```\n",
    "[(9, 9), (-8, -9)]\n",
    "2\n",
    "```"
   ]
  },
  {
   "cell_type": "code",
   "execution_count": null,
   "metadata": {},
   "outputs": [],
   "source": []
  }
 ],
 "metadata": {
  "kernelspec": {
   "display_name": "Python 3",
   "language": "python",
   "name": "python3"
  },
  "language_info": {
   "codemirror_mode": {
    "name": "ipython",
    "version": 3
   },
   "file_extension": ".py",
   "mimetype": "text/x-python",
   "name": "python",
   "nbconvert_exporter": "python",
   "pygments_lexer": "ipython3",
   "version": "3.9.1"
  }
 },
 "nbformat": 4,
 "nbformat_minor": 2
}
